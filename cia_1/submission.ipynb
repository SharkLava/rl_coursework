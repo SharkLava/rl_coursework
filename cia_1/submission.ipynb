{
 "cells": [
  {
   "cell_type": "markdown",
   "metadata": {},
   "source": [
    "# Libraries"
   ]
  },
  {
   "cell_type": "code",
   "execution_count": 1,
   "metadata": {},
   "outputs": [],
   "source": [
    "import numpy as np\n",
    "import pandas as pd\n",
    "import json\n",
    "import math"
   ]
  },
  {
   "cell_type": "markdown",
   "metadata": {},
   "source": [
    "# Data"
   ]
  },
  {
   "cell_type": "markdown",
   "metadata": {},
   "source": [
    "## Impressions"
   ]
  },
  {
   "cell_type": "code",
   "execution_count": 2,
   "metadata": {},
   "outputs": [
    {
     "name": "stdout",
     "output_type": "stream",
     "text": [
      "The dataset originally consist of 156965 number of interactions.\n"
     ]
    },
    {
     "data": {
      "text/html": [
       "<div>\n",
       "<style scoped>\n",
       "    .dataframe tbody tr th:only-of-type {\n",
       "        vertical-align: middle;\n",
       "    }\n",
       "\n",
       "    .dataframe tbody tr th {\n",
       "        vertical-align: top;\n",
       "    }\n",
       "\n",
       "    .dataframe thead th {\n",
       "        text-align: right;\n",
       "    }\n",
       "</style>\n",
       "<table border=\"1\" class=\"dataframe\">\n",
       "  <thead>\n",
       "    <tr style=\"text-align: right;\">\n",
       "      <th></th>\n",
       "      <th>impressionId</th>\n",
       "      <th>userId</th>\n",
       "      <th>timestamp</th>\n",
       "      <th>click_history</th>\n",
       "      <th>impressions</th>\n",
       "    </tr>\n",
       "  </thead>\n",
       "  <tbody>\n",
       "    <tr>\n",
       "      <th>0</th>\n",
       "      <td>1</td>\n",
       "      <td>U13740</td>\n",
       "      <td>11/11/2019 9:05:58 AM</td>\n",
       "      <td>N55189 N42782 N34694 N45794 N18445 N63302 N104...</td>\n",
       "      <td>N55689-1 N35729-0</td>\n",
       "    </tr>\n",
       "    <tr>\n",
       "      <th>1</th>\n",
       "      <td>2</td>\n",
       "      <td>U91836</td>\n",
       "      <td>11/12/2019 6:11:30 PM</td>\n",
       "      <td>N31739 N6072 N63045 N23979 N35656 N43353 N8129...</td>\n",
       "      <td>N20678-0 N39317-0 N58114-0 N20495-0 N42977-0 N...</td>\n",
       "    </tr>\n",
       "    <tr>\n",
       "      <th>2</th>\n",
       "      <td>3</td>\n",
       "      <td>U73700</td>\n",
       "      <td>11/14/2019 7:01:48 AM</td>\n",
       "      <td>N10732 N25792 N7563 N21087 N41087 N5445 N60384...</td>\n",
       "      <td>N50014-0 N23877-0 N35389-0 N49712-0 N16844-0 N...</td>\n",
       "    </tr>\n",
       "    <tr>\n",
       "      <th>3</th>\n",
       "      <td>4</td>\n",
       "      <td>U34670</td>\n",
       "      <td>11/11/2019 5:28:05 AM</td>\n",
       "      <td>N45729 N2203 N871 N53880 N41375 N43142 N33013 ...</td>\n",
       "      <td>N35729-0 N33632-0 N49685-1 N27581-0</td>\n",
       "    </tr>\n",
       "    <tr>\n",
       "      <th>4</th>\n",
       "      <td>5</td>\n",
       "      <td>U8125</td>\n",
       "      <td>11/12/2019 4:11:21 PM</td>\n",
       "      <td>N10078 N56514 N14904 N33740</td>\n",
       "      <td>N39985-0 N36050-0 N16096-0 N8400-1 N22407-0 N6...</td>\n",
       "    </tr>\n",
       "  </tbody>\n",
       "</table>\n",
       "</div>"
      ],
      "text/plain": [
       "   impressionId  userId              timestamp  \\\n",
       "0             1  U13740  11/11/2019 9:05:58 AM   \n",
       "1             2  U91836  11/12/2019 6:11:30 PM   \n",
       "2             3  U73700  11/14/2019 7:01:48 AM   \n",
       "3             4  U34670  11/11/2019 5:28:05 AM   \n",
       "4             5   U8125  11/12/2019 4:11:21 PM   \n",
       "\n",
       "                                       click_history  \\\n",
       "0  N55189 N42782 N34694 N45794 N18445 N63302 N104...   \n",
       "1  N31739 N6072 N63045 N23979 N35656 N43353 N8129...   \n",
       "2  N10732 N25792 N7563 N21087 N41087 N5445 N60384...   \n",
       "3  N45729 N2203 N871 N53880 N41375 N43142 N33013 ...   \n",
       "4                        N10078 N56514 N14904 N33740   \n",
       "\n",
       "                                         impressions  \n",
       "0                                  N55689-1 N35729-0  \n",
       "1  N20678-0 N39317-0 N58114-0 N20495-0 N42977-0 N...  \n",
       "2  N50014-0 N23877-0 N35389-0 N49712-0 N16844-0 N...  \n",
       "3                N35729-0 N33632-0 N49685-1 N27581-0  \n",
       "4  N39985-0 N36050-0 N16096-0 N8400-1 N22407-0 N6...  "
      ]
     },
     "execution_count": 2,
     "metadata": {},
     "output_type": "execute_result"
    }
   ],
   "source": [
    "raw_behaviour = pd.read_csv(\n",
    "    \"MINDsmall_train/behaviors.tsv\",\n",
    "    sep=\"\\t\",\n",
    "    names=[\"impressionId\", \"userId\", \"timestamp\", \"click_history\", \"impressions\"],\n",
    ")\n",
    "\n",
    "print(f\"The dataset originally consist of {len(raw_behaviour)} number of interactions.\")\n",
    "raw_behaviour.head()"
   ]
  },
  {
   "cell_type": "code",
   "execution_count": 3,
   "metadata": {},
   "outputs": [],
   "source": [
    "# Function to split the impressions and clicks into two seperate lists\n",
    "def process_impression(impression_list):\n",
    "    list_of_strings = impression_list.split()\n",
    "    click = [x.split(\"-\")[0] for x in list_of_strings if x.split(\"-\")[1] == \"1\"]\n",
    "    non_click = [x.split(\"-\")[0] for x in list_of_strings if x.split(\"-\")[1] == \"0\"]\n",
    "    return click, non_click\n",
    "\n",
    "\n",
    "# We can then indexize these two new columns:\n",
    "raw_behaviour[\"click\"], raw_behaviour[\"noclicks\"] = zip(\n",
    "    *raw_behaviour[\"impressions\"].map(process_impression)\n",
    ")"
   ]
  },
  {
   "cell_type": "code",
   "execution_count": 4,
   "metadata": {},
   "outputs": [],
   "source": [
    "# Convert timestamp value to hours since epoch\n",
    "raw_behaviour[\"epochhrs\"] = (\n",
    "    pd.to_datetime(raw_behaviour[\"timestamp\"]).values.astype(np.int64)\n",
    "    / (1e6)\n",
    "    / 1000\n",
    "    / 3600\n",
    ")\n",
    "raw_behaviour[\"epochhrs\"] = raw_behaviour[\"epochhrs\"].round()"
   ]
  },
  {
   "cell_type": "markdown",
   "metadata": {},
   "source": [
    "### Click History"
   ]
  },
  {
   "cell_type": "code",
   "execution_count": 5,
   "metadata": {},
   "outputs": [
    {
     "name": "stdout",
     "output_type": "stream",
     "text": [
      "The dataset after pre-processing consist of 1162402 number of interactions.\n"
     ]
    }
   ],
   "source": [
    "# If there exists several clicks in one session, expand to new observation\n",
    "raw_behaviour = raw_behaviour.explode(\"click\").reset_index(drop=True)\n",
    "\n",
    "# Extract the clicks from the previous clicks\n",
    "click_history = raw_behaviour[[\"userId\", \"click_history\"]].drop_duplicates().dropna()\n",
    "click_history[\"click_history\"] = click_history.click_history.map(lambda x: x.split())\n",
    "click_history = click_history.explode(\"click_history\").rename(\n",
    "    columns={\"click_history\": \"click\"}\n",
    ")\n",
    "# Dummy time set to earlies epochhrs in raw_behaviour as we don't know when these events took place.\n",
    "click_history[\"epochhrs\"] = raw_behaviour.epochhrs.min()\n",
    "click_history[\"noclicks\"] = pd.Series([[] for _ in range(len(click_history.index))])\n",
    "\n",
    "# concatenate historical clicks with the raw_behaviour\n",
    "raw_behaviour = pd.concat([raw_behaviour, click_history], axis=0).reset_index(drop=True)\n",
    "print(\n",
    "    f\"The dataset after pre-processing consist of {len(raw_behaviour)} number of interactions.\"\n",
    ")"
   ]
  },
  {
   "cell_type": "markdown",
   "metadata": {},
   "source": [
    "## Article"
   ]
  },
  {
   "cell_type": "code",
   "execution_count": 6,
   "metadata": {},
   "outputs": [],
   "source": [
    "def extract_labels(row):\n",
    "    try:\n",
    "        if isinstance(row, str):\n",
    "            entities = json.loads(row)\n",
    "            labels = [entity[\"Label\"] for entity in entities]\n",
    "            return labels\n",
    "        elif isinstance(row, float) and math.isnan(row):\n",
    "            return []\n",
    "        else:\n",
    "            return []\n",
    "    except (ValueError, KeyError):\n",
    "        return []"
   ]
  },
  {
   "cell_type": "code",
   "execution_count": 7,
   "metadata": {},
   "outputs": [
    {
     "name": "stdout",
     "output_type": "stream",
     "text": [
      "The article data consist in total of 51282 number of articles.\n"
     ]
    }
   ],
   "source": [
    "news = pd.read_csv(\n",
    "    \"MINDsmall_train/news.tsv\",\n",
    "    sep=\"\\t\",\n",
    "    names=[\n",
    "        \"itemId\",\n",
    "        \"category\",\n",
    "        \"subcategory\",\n",
    "        \"title\",\n",
    "        \"abstract\",\n",
    "        \"url\",\n",
    "        \"title_entities\",\n",
    "        \"abstract_entities\",\n",
    "    ],\n",
    ")\n",
    "print(f\"The article data consist in total of {len(news)} number of articles.\")"
   ]
  },
  {
   "cell_type": "code",
   "execution_count": 8,
   "metadata": {},
   "outputs": [],
   "source": [
    "news[\"abstract_entities_labels\"] = news[\"abstract_entities\"].apply(extract_labels)\n",
    "news[\"title_entities_labels\"] = news[\"title_entities\"].apply(extract_labels)"
   ]
  },
  {
   "cell_type": "code",
   "execution_count": 9,
   "metadata": {},
   "outputs": [],
   "source": [
    "news.drop(\n",
    "    [\"url\", \"title\", \"abstract\", \"title_entities\", \"abstract_entities\"],\n",
    "    axis=1,\n",
    "    inplace=True,\n",
    ")"
   ]
  },
  {
   "cell_type": "markdown",
   "metadata": {},
   "source": [
    "I couldnt really find any datasets with like an affiliate or allignment score, so for now i just randomly generated a score for it. Maybe I can use the unused data from the news dataset to come up with one based on the content?"
   ]
  },
  {
   "cell_type": "code",
   "execution_count": 10,
   "metadata": {},
   "outputs": [],
   "source": [
    "news[\"affiliate_score\"] = np.random.rand(len(news))"
   ]
  },
  {
   "cell_type": "code",
   "execution_count": 11,
   "metadata": {},
   "outputs": [
    {
     "data": {
      "text/html": [
       "<div>\n",
       "<style scoped>\n",
       "    .dataframe tbody tr th:only-of-type {\n",
       "        vertical-align: middle;\n",
       "    }\n",
       "\n",
       "    .dataframe tbody tr th {\n",
       "        vertical-align: top;\n",
       "    }\n",
       "\n",
       "    .dataframe thead th {\n",
       "        text-align: right;\n",
       "    }\n",
       "</style>\n",
       "<table border=\"1\" class=\"dataframe\">\n",
       "  <thead>\n",
       "    <tr style=\"text-align: right;\">\n",
       "      <th></th>\n",
       "      <th>itemId</th>\n",
       "      <th>category</th>\n",
       "      <th>subcategory</th>\n",
       "      <th>abstract_entities_labels</th>\n",
       "      <th>title_entities_labels</th>\n",
       "      <th>affiliate_score</th>\n",
       "    </tr>\n",
       "  </thead>\n",
       "  <tbody>\n",
       "    <tr>\n",
       "      <th>0</th>\n",
       "      <td>N55528</td>\n",
       "      <td>lifestyle</td>\n",
       "      <td>lifestyleroyals</td>\n",
       "      <td>[]</td>\n",
       "      <td>[Prince Philip, Duke of Edinburgh, Charles, Pr...</td>\n",
       "      <td>0.310886</td>\n",
       "    </tr>\n",
       "    <tr>\n",
       "      <th>1</th>\n",
       "      <td>N19639</td>\n",
       "      <td>health</td>\n",
       "      <td>weightloss</td>\n",
       "      <td>[Adipose tissue]</td>\n",
       "      <td>[Adipose tissue]</td>\n",
       "      <td>0.503125</td>\n",
       "    </tr>\n",
       "    <tr>\n",
       "      <th>2</th>\n",
       "      <td>N61837</td>\n",
       "      <td>news</td>\n",
       "      <td>newsworld</td>\n",
       "      <td>[Ukraine]</td>\n",
       "      <td>[]</td>\n",
       "      <td>0.933823</td>\n",
       "    </tr>\n",
       "    <tr>\n",
       "      <th>3</th>\n",
       "      <td>N53526</td>\n",
       "      <td>health</td>\n",
       "      <td>voices</td>\n",
       "      <td>[National Basketball Association]</td>\n",
       "      <td>[]</td>\n",
       "      <td>0.198382</td>\n",
       "    </tr>\n",
       "    <tr>\n",
       "      <th>4</th>\n",
       "      <td>N38324</td>\n",
       "      <td>health</td>\n",
       "      <td>medical</td>\n",
       "      <td>[Skin tag, Dermatology, Reader's Digest]</td>\n",
       "      <td>[Skin tag]</td>\n",
       "      <td>0.780608</td>\n",
       "    </tr>\n",
       "  </tbody>\n",
       "</table>\n",
       "</div>"
      ],
      "text/plain": [
       "   itemId   category      subcategory  \\\n",
       "0  N55528  lifestyle  lifestyleroyals   \n",
       "1  N19639     health       weightloss   \n",
       "2  N61837       news        newsworld   \n",
       "3  N53526     health           voices   \n",
       "4  N38324     health          medical   \n",
       "\n",
       "                   abstract_entities_labels  \\\n",
       "0                                        []   \n",
       "1                          [Adipose tissue]   \n",
       "2                                 [Ukraine]   \n",
       "3         [National Basketball Association]   \n",
       "4  [Skin tag, Dermatology, Reader's Digest]   \n",
       "\n",
       "                               title_entities_labels  affiliate_score  \n",
       "0  [Prince Philip, Duke of Edinburgh, Charles, Pr...         0.310886  \n",
       "1                                   [Adipose tissue]         0.503125  \n",
       "2                                                 []         0.933823  \n",
       "3                                                 []         0.198382  \n",
       "4                                         [Skin tag]         0.780608  "
      ]
     },
     "execution_count": 11,
     "metadata": {},
     "output_type": "execute_result"
    }
   ],
   "source": [
    "news.head()"
   ]
  },
  {
   "cell_type": "markdown",
   "metadata": {},
   "source": [
    "## Removing entries with very few impressions"
   ]
  },
  {
   "cell_type": "code",
   "execution_count": 12,
   "metadata": {},
   "outputs": [
    {
     "name": "stdout",
     "output_type": "stream",
     "text": [
      "Number of items that have less than 100 clicks make up 93.852 % of the total, and these will be removed.\n"
     ]
    }
   ],
   "source": [
    "min_click_cutoff = 100\n",
    "print(\n",
    "    f\"Number of items that have less than {min_click_cutoff} clicks make up\",\n",
    "    np.round(\n",
    "        np.mean(raw_behaviour.groupby(\"click\").size() < min_click_cutoff) * 100, 3\n",
    "    ),\n",
    "    \"% of the total, and these will be removed.\",\n",
    ")"
   ]
  },
  {
   "cell_type": "code",
   "execution_count": 13,
   "metadata": {},
   "outputs": [],
   "source": [
    "# remove items with less clicks than min_click_cutoff\n",
    "raw_behaviour = raw_behaviour[\n",
    "    raw_behaviour.groupby(\"click\")[\"userId\"].transform(\"size\") >= min_click_cutoff\n",
    "].reset_index(drop=True)\n",
    "# Get a set with all the unique items\n",
    "click_set = set(raw_behaviour[\"click\"].unique())\n",
    "\n",
    "# remove items for impressions that is not avaiable in the click set (the items that we will be training on)\n",
    "raw_behaviour[\"noclicks\"] = raw_behaviour[\"noclicks\"].apply(\n",
    "    lambda impressions: [\n",
    "        impression for impression in impressions if impression in click_set\n",
    "    ]\n",
    ")"
   ]
  },
  {
   "cell_type": "code",
   "execution_count": 14,
   "metadata": {},
   "outputs": [
    {
     "data": {
      "text/html": [
       "<div>\n",
       "<style scoped>\n",
       "    .dataframe tbody tr th:only-of-type {\n",
       "        vertical-align: middle;\n",
       "    }\n",
       "\n",
       "    .dataframe tbody tr th {\n",
       "        vertical-align: top;\n",
       "    }\n",
       "\n",
       "    .dataframe thead th {\n",
       "        text-align: right;\n",
       "    }\n",
       "</style>\n",
       "<table border=\"1\" class=\"dataframe\">\n",
       "  <thead>\n",
       "    <tr style=\"text-align: right;\">\n",
       "      <th></th>\n",
       "      <th>impressionId</th>\n",
       "      <th>userId</th>\n",
       "      <th>timestamp</th>\n",
       "      <th>click_history</th>\n",
       "      <th>impressions</th>\n",
       "      <th>click</th>\n",
       "      <th>noclicks</th>\n",
       "      <th>epochhrs</th>\n",
       "    </tr>\n",
       "  </thead>\n",
       "  <tbody>\n",
       "    <tr>\n",
       "      <th>0</th>\n",
       "      <td>1.0</td>\n",
       "      <td>U13740</td>\n",
       "      <td>11/11/2019 9:05:58 AM</td>\n",
       "      <td>N55189 N42782 N34694 N45794 N18445 N63302 N104...</td>\n",
       "      <td>N55689-1 N35729-0</td>\n",
       "      <td>N55689</td>\n",
       "      <td>[N35729]</td>\n",
       "      <td>437073.0</td>\n",
       "    </tr>\n",
       "    <tr>\n",
       "      <th>1</th>\n",
       "      <td>2.0</td>\n",
       "      <td>U91836</td>\n",
       "      <td>11/12/2019 6:11:30 PM</td>\n",
       "      <td>N31739 N6072 N63045 N23979 N35656 N43353 N8129...</td>\n",
       "      <td>N20678-0 N39317-0 N58114-0 N20495-0 N42977-0 N...</td>\n",
       "      <td>N17059</td>\n",
       "      <td>[N20678, N39317, N58114, N20495, N42977, N1459...</td>\n",
       "      <td>437106.0</td>\n",
       "    </tr>\n",
       "    <tr>\n",
       "      <th>2</th>\n",
       "      <td>3.0</td>\n",
       "      <td>U73700</td>\n",
       "      <td>11/14/2019 7:01:48 AM</td>\n",
       "      <td>N10732 N25792 N7563 N21087 N41087 N5445 N60384...</td>\n",
       "      <td>N50014-0 N23877-0 N35389-0 N49712-0 N16844-0 N...</td>\n",
       "      <td>N23814</td>\n",
       "      <td>[N23877, N35389, N49712, N16844, N59685, N2344...</td>\n",
       "      <td>437143.0</td>\n",
       "    </tr>\n",
       "    <tr>\n",
       "      <th>3</th>\n",
       "      <td>4.0</td>\n",
       "      <td>U34670</td>\n",
       "      <td>11/11/2019 5:28:05 AM</td>\n",
       "      <td>N45729 N2203 N871 N53880 N41375 N43142 N33013 ...</td>\n",
       "      <td>N35729-0 N33632-0 N49685-1 N27581-0</td>\n",
       "      <td>N49685</td>\n",
       "      <td>[N35729, N33632, N27581]</td>\n",
       "      <td>437069.0</td>\n",
       "    </tr>\n",
       "    <tr>\n",
       "      <th>4</th>\n",
       "      <td>6.0</td>\n",
       "      <td>U19739</td>\n",
       "      <td>11/11/2019 6:52:13 PM</td>\n",
       "      <td>N39074 N14343 N32607 N32320 N22007 N442 N19001...</td>\n",
       "      <td>N21119-1 N53696-0 N33619-1 N25722-0 N2869-0</td>\n",
       "      <td>N33619</td>\n",
       "      <td>[]</td>\n",
       "      <td>437083.0</td>\n",
       "    </tr>\n",
       "  </tbody>\n",
       "</table>\n",
       "</div>"
      ],
      "text/plain": [
       "   impressionId  userId              timestamp  \\\n",
       "0           1.0  U13740  11/11/2019 9:05:58 AM   \n",
       "1           2.0  U91836  11/12/2019 6:11:30 PM   \n",
       "2           3.0  U73700  11/14/2019 7:01:48 AM   \n",
       "3           4.0  U34670  11/11/2019 5:28:05 AM   \n",
       "4           6.0  U19739  11/11/2019 6:52:13 PM   \n",
       "\n",
       "                                       click_history  \\\n",
       "0  N55189 N42782 N34694 N45794 N18445 N63302 N104...   \n",
       "1  N31739 N6072 N63045 N23979 N35656 N43353 N8129...   \n",
       "2  N10732 N25792 N7563 N21087 N41087 N5445 N60384...   \n",
       "3  N45729 N2203 N871 N53880 N41375 N43142 N33013 ...   \n",
       "4  N39074 N14343 N32607 N32320 N22007 N442 N19001...   \n",
       "\n",
       "                                         impressions   click  \\\n",
       "0                                  N55689-1 N35729-0  N55689   \n",
       "1  N20678-0 N39317-0 N58114-0 N20495-0 N42977-0 N...  N17059   \n",
       "2  N50014-0 N23877-0 N35389-0 N49712-0 N16844-0 N...  N23814   \n",
       "3                N35729-0 N33632-0 N49685-1 N27581-0  N49685   \n",
       "4        N21119-1 N53696-0 N33619-1 N25722-0 N2869-0  N33619   \n",
       "\n",
       "                                            noclicks  epochhrs  \n",
       "0                                           [N35729]  437073.0  \n",
       "1  [N20678, N39317, N58114, N20495, N42977, N1459...  437106.0  \n",
       "2  [N23877, N35389, N49712, N16844, N59685, N2344...  437143.0  \n",
       "3                           [N35729, N33632, N27581]  437069.0  \n",
       "4                                                 []  437083.0  "
      ]
     },
     "execution_count": 14,
     "metadata": {},
     "output_type": "execute_result"
    }
   ],
   "source": [
    "raw_behaviour.head()"
   ]
  },
  {
   "cell_type": "markdown",
   "metadata": {},
   "source": [
    "### Cleaning up behavior"
   ]
  },
  {
   "cell_type": "code",
   "execution_count": 15,
   "metadata": {},
   "outputs": [],
   "source": [
    "behaviour = raw_behaviour[[\"userId\", \"click\", \"noclicks\", \"click_history\"]].copy()"
   ]
  },
  {
   "cell_type": "code",
   "execution_count": 16,
   "metadata": {},
   "outputs": [
    {
     "name": "stdout",
     "output_type": "stream",
     "text": [
      "Number of interactions in the behaviour dataset: 781871\n",
      "Number of users in the behaviour dataset: 49832\n",
      "Number of articles in the behaviour dataset: 2451\n"
     ]
    }
   ],
   "source": [
    "print(\"Number of interactions in the behaviour dataset:\", behaviour.shape[0])\n",
    "print(\"Number of users in the behaviour dataset:\", behaviour.userId.nunique())\n",
    "print(\"Number of articles in the behaviour dataset:\", behaviour.click.nunique())"
   ]
  },
  {
   "cell_type": "code",
   "execution_count": 17,
   "metadata": {},
   "outputs": [
    {
     "data": {
      "text/html": [
       "<div>\n",
       "<style scoped>\n",
       "    .dataframe tbody tr th:only-of-type {\n",
       "        vertical-align: middle;\n",
       "    }\n",
       "\n",
       "    .dataframe tbody tr th {\n",
       "        vertical-align: top;\n",
       "    }\n",
       "\n",
       "    .dataframe thead th {\n",
       "        text-align: right;\n",
       "    }\n",
       "</style>\n",
       "<table border=\"1\" class=\"dataframe\">\n",
       "  <thead>\n",
       "    <tr style=\"text-align: right;\">\n",
       "      <th></th>\n",
       "      <th>userId</th>\n",
       "      <th>click</th>\n",
       "      <th>noclicks</th>\n",
       "      <th>click_history</th>\n",
       "    </tr>\n",
       "  </thead>\n",
       "  <tbody>\n",
       "    <tr>\n",
       "      <th>0</th>\n",
       "      <td>U13740</td>\n",
       "      <td>N55689</td>\n",
       "      <td>[N35729]</td>\n",
       "      <td>N55189 N42782 N34694 N45794 N18445 N63302 N104...</td>\n",
       "    </tr>\n",
       "    <tr>\n",
       "      <th>1</th>\n",
       "      <td>U91836</td>\n",
       "      <td>N17059</td>\n",
       "      <td>[N20678, N39317, N58114, N20495, N42977, N1459...</td>\n",
       "      <td>N31739 N6072 N63045 N23979 N35656 N43353 N8129...</td>\n",
       "    </tr>\n",
       "    <tr>\n",
       "      <th>2</th>\n",
       "      <td>U73700</td>\n",
       "      <td>N23814</td>\n",
       "      <td>[N23877, N35389, N49712, N16844, N59685, N2344...</td>\n",
       "      <td>N10732 N25792 N7563 N21087 N41087 N5445 N60384...</td>\n",
       "    </tr>\n",
       "    <tr>\n",
       "      <th>3</th>\n",
       "      <td>U34670</td>\n",
       "      <td>N49685</td>\n",
       "      <td>[N35729, N33632, N27581]</td>\n",
       "      <td>N45729 N2203 N871 N53880 N41375 N43142 N33013 ...</td>\n",
       "    </tr>\n",
       "    <tr>\n",
       "      <th>4</th>\n",
       "      <td>U19739</td>\n",
       "      <td>N33619</td>\n",
       "      <td>[]</td>\n",
       "      <td>N39074 N14343 N32607 N32320 N22007 N442 N19001...</td>\n",
       "    </tr>\n",
       "  </tbody>\n",
       "</table>\n",
       "</div>"
      ],
      "text/plain": [
       "   userId   click                                           noclicks  \\\n",
       "0  U13740  N55689                                           [N35729]   \n",
       "1  U91836  N17059  [N20678, N39317, N58114, N20495, N42977, N1459...   \n",
       "2  U73700  N23814  [N23877, N35389, N49712, N16844, N59685, N2344...   \n",
       "3  U34670  N49685                           [N35729, N33632, N27581]   \n",
       "4  U19739  N33619                                                 []   \n",
       "\n",
       "                                       click_history  \n",
       "0  N55189 N42782 N34694 N45794 N18445 N63302 N104...  \n",
       "1  N31739 N6072 N63045 N23979 N35656 N43353 N8129...  \n",
       "2  N10732 N25792 N7563 N21087 N41087 N5445 N60384...  \n",
       "3  N45729 N2203 N871 N53880 N41375 N43142 N33013 ...  \n",
       "4  N39074 N14343 N32607 N32320 N22007 N442 N19001...  "
      ]
     },
     "execution_count": 17,
     "metadata": {},
     "output_type": "execute_result"
    }
   ],
   "source": [
    "behaviour.head()"
   ]
  },
  {
   "cell_type": "markdown",
   "metadata": {},
   "source": [
    "# Models"
   ]
  },
  {
   "cell_type": "markdown",
   "metadata": {},
   "source": [
    "## Epsilon greedy(biased)"
   ]
  },
  {
   "cell_type": "code",
   "execution_count": 18,
   "metadata": {},
   "outputs": [],
   "source": [
    "class BiasedBandit:\n",
    "    def __init__(self, news_df, behavior_df, num_articles=10, epsilon=0.1):\n",
    "        self.news_df = news_df\n",
    "        self.behavior_df = behavior_df\n",
    "        self.num_articles = num_articles\n",
    "        self.epsilon = epsilon\n",
    "        self.article_values = np.zeros(num_articles)\n",
    "        self.article_clicks = np.zeros(num_articles)\n",
    "        self.article_ids = self.news_df[\"itemId\"].tolist()\n",
    "        self.affiliate_scores = self.news_df[\"affiliate_score\"].tolist()\n",
    "\n",
    "    def select_article(self):\n",
    "        if np.random.rand() < self.epsilon:\n",
    "            return np.random.randint(self.num_articles)\n",
    "        else:\n",
    "            return np.argmax(self.article_values)\n",
    "\n",
    "    def update_values(self, article_id, click):\n",
    "        self.article_clicks[article_id] += click\n",
    "        total_impressions = 0\n",
    "        for click_history in self.behavior_df[\"click_history\"]:\n",
    "            if (\n",
    "                isinstance(click_history, str)\n",
    "                and str(self.article_ids[article_id]) in click_history\n",
    "            ):\n",
    "                total_impressions += 1\n",
    "        self.article_values[article_id] = (\n",
    "            self.article_clicks[article_id] / total_impressions\n",
    "        ) * self.affiliate_scores[article_id]\n",
    "\n",
    "    def run_optimization(self, num_iterations):\n",
    "        for _ in range(num_iterations):\n",
    "            article_id = self.select_article()\n",
    "            click = (\n",
    "                1\n",
    "                if any(\n",
    "                    str(self.article_ids[article_id]) in str(x)\n",
    "                    for x in self.behavior_df[\"click_history\"]\n",
    "                )\n",
    "                else 0\n",
    "            )\n",
    "            self.update_values(article_id, click)\n",
    "\n",
    "        return self.article_values"
   ]
  },
  {
   "cell_type": "code",
   "execution_count": 19,
   "metadata": {},
   "outputs": [],
   "source": [
    "def print_top_articles(article_values, news_df, n=5):\n",
    "    top_article_ids = np.argsort(-article_values)[:n]\n",
    "    print(f\"Top {n} most valuable articles:\")\n",
    "    for i in top_article_ids:\n",
    "        print(\n",
    "            f\"Article ID: {news_df.iloc[i]['itemId']}, Value: {article_values[i]:.3f}\"\n",
    "        )"
   ]
  },
  {
   "cell_type": "code",
   "execution_count": 20,
   "metadata": {},
   "outputs": [],
   "source": [
    "optimizer = BiasedBandit(news, behaviour, num_articles=10, epsilon=0.1)"
   ]
  },
  {
   "cell_type": "code",
   "execution_count": 21,
   "metadata": {},
   "outputs": [
    {
     "name": "stderr",
     "output_type": "stream",
     "text": [
      "/tmp/ipykernel_45281/3024362544.py:28: RuntimeWarning: invalid value encountered in scalar divide\n",
      "  self.article_clicks[article_id] / total_impressions\n"
     ]
    }
   ],
   "source": [
    "article_values = optimizer.run_optimization(1000)"
   ]
  },
  {
   "cell_type": "code",
   "execution_count": 22,
   "metadata": {},
   "outputs": [
    {
     "name": "stdout",
     "output_type": "stream",
     "text": [
      "Top 3 most valuable articles:\n",
      "Article ID: N24510, Value: 0.876\n",
      "Article ID: N55528, Value: 0.808\n",
      "Article ID: N38324, Value: 0.260\n"
     ]
    }
   ],
   "source": [
    "print_top_articles(article_values, news, n=3)"
   ]
  },
  {
   "cell_type": "markdown",
   "metadata": {},
   "source": [
    "## Epsilon Greedy(unbiased)"
   ]
  },
  {
   "cell_type": "code",
   "execution_count": 23,
   "metadata": {},
   "outputs": [],
   "source": [
    "class UnbiasedBandit:\n",
    "    def __init__(self, news_df, behavior_df, num_articles=10, epsilon=0.1):\n",
    "        self.news_df = news_df\n",
    "        self.behavior_df = behavior_df\n",
    "        self.num_articles = num_articles\n",
    "        self.epsilon = epsilon\n",
    "        self.article_values = np.zeros(num_articles)\n",
    "        self.article_clicks = np.zeros(num_articles)\n",
    "        self.article_ids = self.news_df[\"itemId\"].tolist()\n",
    "\n",
    "    def select_article(self):\n",
    "        if np.random.rand() < self.epsilon:\n",
    "            return np.random.randint(self.num_articles)\n",
    "        else:\n",
    "            return np.argmax(self.article_values)\n",
    "\n",
    "    def update_values(self, article_id, click):\n",
    "        self.article_clicks[article_id] += click\n",
    "        total_impressions = 0\n",
    "        for click_history in self.behavior_df[\"click_history\"]:\n",
    "            if (\n",
    "                isinstance(click_history, str)\n",
    "                and str(self.article_ids[article_id]) in click_history\n",
    "            ):\n",
    "                total_impressions += 1\n",
    "        self.article_values[article_id] = (\n",
    "            self.article_clicks[article_id] / total_impressions\n",
    "        )\n",
    "\n",
    "    def run_optimization(self, num_iterations):\n",
    "        for _ in range(num_iterations):\n",
    "            article_id = self.select_article()\n",
    "            click = (\n",
    "                1\n",
    "                if any(\n",
    "                    str(self.article_ids[article_id]) in str(x)\n",
    "                    for x in self.behavior_df[\"click_history\"]\n",
    "                )\n",
    "                else 0\n",
    "            )\n",
    "            self.update_values(article_id, click)\n",
    "\n",
    "        return self.article_values"
   ]
  },
  {
   "cell_type": "code",
   "execution_count": 24,
   "metadata": {},
   "outputs": [],
   "source": [
    "optimizer = UnbiasedBandit(news, behaviour, num_articles=10, epsilon=0.1)"
   ]
  },
  {
   "cell_type": "code",
   "execution_count": 25,
   "metadata": {},
   "outputs": [
    {
     "name": "stderr",
     "output_type": "stream",
     "text": [
      "/tmp/ipykernel_45281/1710723501.py:27: RuntimeWarning: invalid value encountered in scalar divide\n",
      "  self.article_clicks[article_id] / total_impressions\n"
     ]
    }
   ],
   "source": [
    "article_values = optimizer.run_optimization(1000)"
   ]
  },
  {
   "cell_type": "code",
   "execution_count": 26,
   "metadata": {},
   "outputs": [
    {
     "name": "stdout",
     "output_type": "stream",
     "text": [
      "Top 3 most valuable articles:\n",
      "Article ID: N24510, Value: 3.250\n",
      "Article ID: N55528, Value: 3.200\n",
      "Article ID: N59295, Value: 0.625\n"
     ]
    }
   ],
   "source": [
    "print_top_articles(article_values, news, n=3)"
   ]
  }
 ],
 "metadata": {
  "kernelspec": {
   "display_name": ".venv",
   "language": "python",
   "name": "python3"
  },
  "language_info": {
   "codemirror_mode": {
    "name": "ipython",
    "version": 3
   },
   "file_extension": ".py",
   "mimetype": "text/x-python",
   "name": "python",
   "nbconvert_exporter": "python",
   "pygments_lexer": "ipython3",
   "version": "3.10.12"
  }
 },
 "nbformat": 4,
 "nbformat_minor": 2
}
